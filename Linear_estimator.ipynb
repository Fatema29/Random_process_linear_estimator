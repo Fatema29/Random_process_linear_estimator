{
 "cells": [
  {
   "cell_type": "markdown",
   "metadata": {},
   "source": [
    "## Importing Libraries"
   ]
  },
  {
   "cell_type": "code",
   "execution_count": 5,
   "metadata": {},
   "outputs": [],
   "source": [
    "import csv\n",
    "from array import *\n",
    "import numpy as np\n",
    "import matplotlib.pyplot as plt "
   ]
  },
  {
   "cell_type": "markdown",
   "metadata": {},
   "source": [
    "## Reading Dataset"
   ]
  },
  {
   "cell_type": "code",
   "execution_count": 3,
   "metadata": {},
   "outputs": [],
   "source": [
    "temp=[]\n",
    "with open('forestfires.csv') as csvfile:\n",
    "    readCSV = csv.reader(csvfile, delimiter=',')\n",
    "    for row in readCSV:\n",
    "        temp.append(row[8])\n",
    "\n",
    "wind=[]\n",
    "with open('forestfires.csv') as csvfile:\n",
    "    readCSV = csv.reader(csvfile, delimiter=',')\n",
    "    for row in readCSV:\n",
    "        wind.append(row[10])\n",
    "\n",
    "ffmc=[]\n",
    "with open('forestfires.csv') as csvfile:\n",
    "    readCSV = csv.reader(csvfile, delimiter=',')\n",
    "    for row in readCSV:\n",
    "        ffmc.append(row[4])\n",
    "dc=[]\n",
    "with open('forestfires.csv') as csvfile:\n",
    "    readCSV = csv.reader(csvfile, delimiter=',')\n",
    "    for row in readCSV:\n",
    "        dc.append(row[6]) \n",
    "isi=[]\n",
    "with open('forestfires.csv') as csvfile:\n",
    "    readCSV = csv.reader(csvfile, delimiter=',')\n",
    "    for row in readCSV:\n",
    "        isi.append(row[7])\n",
    "rh=[]\n",
    "with open('forestfires.csv') as csvfile:\n",
    "    readCSV = csv.reader(csvfile, delimiter=',')\n",
    "    for row in readCSV:\n",
    "        rh.append(row[9])                        \n",
    "\n",
    "area=[]\n",
    "with open('forestfires.csv') as csvfile:\n",
    "    readCSV = csv.reader(csvfile, delimiter=',')\n",
    "    for row in readCSV:\n",
    "        area.append(row[12])   \n"
   ]
  },
  {
   "cell_type": "markdown",
   "metadata": {},
   "source": [
    "## Defining Functions"
   ]
  },
  {
   "cell_type": "code",
   "execution_count": 4,
   "metadata": {},
   "outputs": [],
   "source": [
    "def E_x_x(a, count):\n",
    "\tE_x_x_in = 0\n",
    "\tfor i in range(1,401):\n",
    "\t\tE_x_x_in += float(a[i])**2\n",
    "\tE_x_x= E_x_x_in/count\n",
    "\treturn E_x_x\n",
    "\n",
    "def E_x_y(a, b, count):\n",
    "\tE_x_x_in = 0\n",
    "\tfor i in range(1,401):\n",
    "\t\tE_x_x_in += float(a[i])*float(b[i])\n",
    "\tE_x_x= E_x_x_in/count\n",
    "\treturn E_x_x\n",
    "\n",
    "def output_A(arr1, arr2):\n",
    "\tmat1 = np.matrix(arr1)\n",
    "\tmat2 = np.matrix(arr2)\n",
    "\tinverse = mat1.I\n",
    "\tmat3= np.matmul(inverse, mat2)\n",
    "\treturn mat3\t\n",
    "\n",
    "def y_estimated(area, x1, x2, a_para):\n",
    "\ty_est = []\n",
    "\tfor i in range(401,518):\n",
    "\t\t#import pdb; pdb.set_trace()\n",
    "\t\ty_est_i = a_para[0]*float(x1[i]) + a_para[1]*float(x2[i])\n",
    "\t\ty_est.append(y_est_i)\n",
    "\n",
    "\treturn y_est\n",
    "\n",
    "def result_MSE(area, y_estimated):\n",
    "\tmse =0\n",
    "\tj=0\n",
    "\tfor i in range(401,518):\n",
    "\t\t#import pdb; pdb.set_trace()\n",
    "\t\tmse += (float(area[i])-y_estimated[j])**2 \n",
    "\t\tj+=1\n",
    "\tmse_mean = mse/117\n",
    "\treturn mse_mean\t \n",
    "\n"
   ]
  },
  {
   "cell_type": "markdown",
   "metadata": {},
   "source": [
    "## Main Program"
   ]
  },
  {
   "cell_type": "code",
   "execution_count": 7,
   "metadata": {},
   "outputs": [
    {
     "name": "stdout",
     "output_type": "stream",
     "text": [
      "1st estimator\n",
      "[[354.7126250000001, 68.59495000000001], [68.59495000000001, 18.66714999999999]]\n",
      "[[235.9616749999999], [44.41123]]\n",
      "[[ 0.70887235]\n",
      " [-0.22573522]]\n",
      "[[5647.64089971]]\n",
      "2nd estimator\n",
      "[[8204.527650000005, 49613.05865000003], [49613.05865000003, 357161.86169999995]]\n",
      "[[1060.0228925], [7201.831050000005]]\n",
      "[[0.04541564]\n",
      " [0.01385541]]\n",
      "[[5719.43112561]]\n",
      "3rd estimator\n",
      "[[97.52825000000004, 375.0602499999999], [375.0602499999999, 2151.1425]]\n",
      "[[97.77650750000001], [437.0725499999998]]\n",
      "[[0.67126708]\n",
      " [0.0861435 ]]\n",
      "[[5948.84791416]]\n"
     ]
    }
   ],
   "source": [
    "#---------------MSE for Temp and Wind------------#\n",
    "\n",
    "print('1st estimator')\n",
    "\n",
    "E_t_t = E_x_x(temp, 400)\n",
    "E_w_w = E_x_x(wind, 400)\n",
    "E_t_w = E_x_y(temp, wind, 400)\n",
    "E_t_a = E_x_y(temp, area, 400)\n",
    "E_w_a = E_x_y(wind, area, 400)\n",
    "\n",
    "\n",
    "R = [[E_t_t, E_t_w], [E_t_w, E_w_w]]\n",
    "print(R)\n",
    "R_0 = [[E_t_a],[E_w_a]] \n",
    "print(R_0)\n",
    "A_t_w = output_A(R,R_0)\n",
    "print(A_t_w)\n",
    "estimated_y1 = y_estimated(area, temp, wind, A_t_w)\n",
    "mse_t_w = result_MSE(area, estimated_y1)\n",
    "print(mse_t_w)\n",
    "#print(estimated_y1[1])\n",
    "#print(A_t_w[1])\n",
    "\n",
    "\n",
    "#-------------MSE for FFMC and DC (4&6)------------#\n",
    "\n",
    "print('2nd estimator')\n",
    "\n",
    "E_f_f = E_x_x(ffmc, 400)\n",
    "E_d_d = E_x_x(dc, 400)\n",
    "E_f_d = E_x_y(ffmc, dc, 400)\n",
    "E_f_a = E_x_y(ffmc, area, 400)\n",
    "E_d_a = E_x_y(dc, area, 400)\n",
    "\n",
    "\n",
    "R = [[E_f_f, E_f_d], [E_f_d, E_d_d]]\n",
    "print(R)\n",
    "R_0 = [[E_f_a],[E_d_a]] \n",
    "print(R_0)\n",
    "A_f_d = output_A(R,R_0)\n",
    "print(A_f_d)\n",
    "estimated_y2 = y_estimated(area, ffmc, dc, A_f_d)\n",
    "mse_f_d = result_MSE(area, estimated_y2)\n",
    "print(mse_f_d)\n",
    "#print(estimated_y1[1])\n",
    "#print(A_t_w[1])\n",
    "\n",
    "\n",
    "#-------------MSE for ISI and RH (7&9)------------#\n",
    "\n",
    "print('3rd estimator')\n",
    "\n",
    "E_i_i = E_x_x(isi, 400)\n",
    "E_r_r = E_x_x(rh, 400)\n",
    "E_i_r = E_x_y(isi, rh, 400)\n",
    "E_i_a = E_x_y(isi, area, 400)\n",
    "E_r_a = E_x_y(rh, area, 400)\n",
    "\n",
    "\n",
    "R = [[E_i_i, E_i_r], [E_i_r, E_r_r]]\n",
    "print(R)\n",
    "R_0 = [[E_i_a],[E_r_a]] \n",
    "print(R_0)\n",
    "A_i_r = output_A(R,R_0)\n",
    "print(A_i_r)\n",
    "estimated_y3 = y_estimated(area, isi, rh, A_f_d)\n",
    "mse_i_r = result_MSE(area, estimated_y3)\n",
    "print(mse_i_r)\n",
    "#print(estimated_y1[1])\n",
    "#print(A_t_w[1])"
   ]
  },
  {
   "cell_type": "markdown",
   "metadata": {},
   "source": [
    "## Plotting the Graph"
   ]
  },
  {
   "cell_type": "code",
   "execution_count": 8,
   "metadata": {},
   "outputs": [
    {
     "data": {
      "image/png": "[encoded data removed]",
      "text/plain": [
       "<Figure size 432x288 with 1 Axes>"
      ]
     },
     "metadata": {
      "needs_background": "light"
     },
     "output_type": "display_data"
    }
   ],
   "source": [
    "x_axis = [1, 2, 3] \n",
    "  \n",
    "MSE = [mse_t_w.tolist()[0][0], mse_f_d.tolist()[0][0], mse_i_r.tolist()[0][0]]\n",
    "  \n",
    "\n",
    "tick_label = ['1(wind & temp)', '2(ffmc & dc)', '3(ise & rh)'] \n",
    "  \n",
    "plt.bar(x_axis, MSE, tick_label = tick_label, \n",
    "        width = 0.01, color = ['red']) \n",
    "\n",
    "plt.xlabel('Input features combinations that I have tried') \n",
    " \n",
    "plt.ylabel('MSE') \n",
    "\n",
    "plt.title('How MSE changes when different features are used for prediction') \n",
    "\n",
    "plt.show()\n"
   ]
  },
  {
   "cell_type": "code",
   "execution_count": null,
   "metadata": {},
   "outputs": [],
   "source": []
  }
 ],
 "metadata": {
  "kernelspec": {
   "display_name": "Python 3",
   "language": "python",
   "name": "python3"
  },
  "language_info": {
   "codemirror_mode": {
    "name": "ipython",
    "version": 3
   },
   "file_extension": ".py",
   "mimetype": "text/x-python",
   "name": "python",
   "nbconvert_exporter": "python",
   "pygments_lexer": "ipython3",
   "version": "3.7.1"
  }
 },
 "nbformat": 4,
 "nbformat_minor": 2
}
